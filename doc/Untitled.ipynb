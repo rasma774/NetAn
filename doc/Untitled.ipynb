{
 "cells": [
  {
   "cell_type": "code",
   "execution_count": null,
   "id": "400c52c9",
   "metadata": {},
   "outputs": [],
   "source": []
  },
  {
   "cell_type": "code",
   "execution_count": null,
   "id": "53c145af",
   "metadata": {},
   "outputs": [],
   "source": []
  },
  {
   "cell_type": "markdown",
   "id": "108198d5",
   "metadata": {},
   "source": [
    "NetAn\n",
    "================\n",
    "\n",
    "About NetAn\n",
    "-------------\n",
    "Gene annotation enrichment analysis is the gold standard to study the biological context of a set of genes, but available tools often overlooks important network properties of the gene regulatory system. We introduce the Network Annotation Enrichment package, NetAn, which takes a list of genes and uses network-based approaches such as network clustering and inference of closely related genes to include local neighbours. Using NetAn, we exemplify how these approaches can be used to better identify relevant annotations in human gene sets. \n",
    "\n",
    "Usage\n",
    "----------\n",
    "Here, we assume a list of six genes, that will be subject to analysis\n"
   ]
  },
  {
   "cell_type": "code",
   "execution_count": 1,
   "id": "bfa22d76",
   "metadata": {},
   "outputs": [
    {
     "name": "stdout",
     "output_type": "stream",
     "text": [
      "/home/rasmus/Documents/projects/NetAn_package/\n",
      "/home/rasmus/Documents/projects/NetAn_package/\n"
     ]
    }
   ],
   "source": [
    "import sys\n",
    "sys.path.append('../utils')\n",
    "\n",
    "import NetAn\n",
    "import plot_utils"
   ]
  },
  {
   "cell_type": "code",
   "execution_count": 2,
   "id": "c815fc9f",
   "metadata": {},
   "outputs": [],
   "source": [
    "genes = ['INSR', 'IRS1', 'RICTOR', 'ACT1', 'F13A1', 'SERPINC1']"
   ]
  },
  {
   "cell_type": "markdown",
   "id": "df78676b",
   "metadata": {},
   "source": [
    "We next create a NetAn object. By default, this also loads the STRINGdb network as the default network for analysis."
   ]
  },
  {
   "cell_type": "code",
   "execution_count": 3,
   "id": "2a183306",
   "metadata": {},
   "outputs": [],
   "source": [
    "nt = NetAn.NetAn(genes)"
   ]
  },
  {
   "cell_type": "markdown",
   "id": "a7ffb2c6",
   "metadata": {},
   "source": [
    "### Expanding the gene set\n",
    "The nt object can now be used to, as an example, expand the genes into including also the neighbouring genes on a PPI network. Here, we expand with a factor 1 relative to the six input genes, brining the total up to 12 genes."
   ]
  },
  {
   "cell_type": "code",
   "execution_count": 4,
   "id": "b3aa0c9a",
   "metadata": {},
   "outputs": [
    {
     "name": "stdout",
     "output_type": "stream",
     "text": [
      "1 of 6 genes are not in network\n",
      "The added genes are:  ['CXorf65' 'OR4F17' 'OR5B17' 'OR6B1' 'SH2B2' 'P3R3URF']\n"
     ]
    }
   ],
   "source": [
    "nt.add_close_genes(augment_factor=1)\n",
    "print('The added genes are: ', nt.genes_exp)"
   ]
  },
  {
   "cell_type": "markdown",
   "id": "151557a4",
   "metadata": {},
   "source": [
    "Now, we calculate the enrichments of all the genes, and compare to the corresponding overenrichment analysis of the original sig genes.\n"
   ]
  },
  {
   "cell_type": "code",
   "execution_count": 5,
   "id": "fe586c3c",
   "metadata": {},
   "outputs": [
    {
     "name": "stdout",
     "output_type": "stream",
     "text": [
      "Calculating Fisher test\n",
      "Calculating Fisher test\n"
     ]
    }
   ],
   "source": [
    "full_OR = nt.enrich(gene_set='genes_exp')\n",
    "start_OR = nt.enrich(gene_set='start_genes')"
   ]
  },
  {
   "cell_type": "code",
   "execution_count": 6,
   "id": "2f8a2172",
   "metadata": {},
   "outputs": [
    {
     "data": {
      "text/html": [
       "<div>\n",
       "<style scoped>\n",
       "    .dataframe tbody tr th:only-of-type {\n",
       "        vertical-align: middle;\n",
       "    }\n",
       "\n",
       "    .dataframe tbody tr th {\n",
       "        vertical-align: top;\n",
       "    }\n",
       "\n",
       "    .dataframe thead th {\n",
       "        text-align: right;\n",
       "    }\n",
       "</style>\n",
       "<table border=\"1\" class=\"dataframe\">\n",
       "  <thead>\n",
       "    <tr style=\"text-align: right;\">\n",
       "      <th></th>\n",
       "      <th>OR</th>\n",
       "      <th>pval</th>\n",
       "      <th>p_adj</th>\n",
       "    </tr>\n",
       "  </thead>\n",
       "  <tbody>\n",
       "    <tr>\n",
       "      <th>olfactory receptor activity</th>\n",
       "      <td>49.794457</td>\n",
       "      <td>0.000148</td>\n",
       "      <td>0.157699</td>\n",
       "    </tr>\n",
       "    <tr>\n",
       "      <th>detection of chemical stimulus involved in sensory perception of smell</th>\n",
       "      <td>49.560920</td>\n",
       "      <td>0.000150</td>\n",
       "      <td>0.157699</td>\n",
       "    </tr>\n",
       "    <tr>\n",
       "      <th>G protein-coupled receptor activity</th>\n",
       "      <td>30.510029</td>\n",
       "      <td>0.000599</td>\n",
       "      <td>0.420443</td>\n",
       "    </tr>\n",
       "    <tr>\n",
       "      <th>G protein-coupled receptor signaling pathway</th>\n",
       "      <td>22.522995</td>\n",
       "      <td>0.001403</td>\n",
       "      <td>0.737745</td>\n",
       "    </tr>\n",
       "    <tr>\n",
       "      <th>phosphatidylinositol 3-kinase complex</th>\n",
       "      <td>219.740000</td>\n",
       "      <td>0.005714</td>\n",
       "      <td>1.000000</td>\n",
       "    </tr>\n",
       "    <tr>\n",
       "      <th>...</th>\n",
       "      <td>...</td>\n",
       "      <td>...</td>\n",
       "      <td>...</td>\n",
       "    </tr>\n",
       "    <tr>\n",
       "      <th>fibroblast growth factor binding</th>\n",
       "      <td>0.000000</td>\n",
       "      <td>1.000000</td>\n",
       "      <td>1.000000</td>\n",
       "    </tr>\n",
       "    <tr>\n",
       "      <th>fibrillar center</th>\n",
       "      <td>0.000000</td>\n",
       "      <td>1.000000</td>\n",
       "      <td>1.000000</td>\n",
       "    </tr>\n",
       "    <tr>\n",
       "      <th>fertilization</th>\n",
       "      <td>0.000000</td>\n",
       "      <td>1.000000</td>\n",
       "      <td>1.000000</td>\n",
       "    </tr>\n",
       "    <tr>\n",
       "      <th>female pregnancy</th>\n",
       "      <td>0.000000</td>\n",
       "      <td>1.000000</td>\n",
       "      <td>1.000000</td>\n",
       "    </tr>\n",
       "    <tr>\n",
       "      <th>zinc ion transmembrane transporter activity</th>\n",
       "      <td>0.000000</td>\n",
       "      <td>1.000000</td>\n",
       "      <td>1.000000</td>\n",
       "    </tr>\n",
       "  </tbody>\n",
       "</table>\n",
       "<p>2104 rows × 3 columns</p>\n",
       "</div>"
      ],
      "text/plain": [
       "                                                            OR      pval  \\\n",
       "olfactory receptor activity                          49.794457  0.000148   \n",
       "detection of chemical stimulus involved in sens...   49.560920  0.000150   \n",
       "G protein-coupled receptor activity                  30.510029  0.000599   \n",
       "G protein-coupled receptor signaling pathway         22.522995  0.001403   \n",
       "phosphatidylinositol 3-kinase complex               219.740000  0.005714   \n",
       "...                                                        ...       ...   \n",
       "fibroblast growth factor binding                      0.000000  1.000000   \n",
       "fibrillar center                                      0.000000  1.000000   \n",
       "fertilization                                         0.000000  1.000000   \n",
       "female pregnancy                                      0.000000  1.000000   \n",
       "zinc ion transmembrane transporter activity           0.000000  1.000000   \n",
       "\n",
       "                                                       p_adj  \n",
       "olfactory receptor activity                         0.157699  \n",
       "detection of chemical stimulus involved in sens...  0.157699  \n",
       "G protein-coupled receptor activity                 0.420443  \n",
       "G protein-coupled receptor signaling pathway        0.737745  \n",
       "phosphatidylinositol 3-kinase complex               1.000000  \n",
       "...                                                      ...  \n",
       "fibroblast growth factor binding                    1.000000  \n",
       "fibrillar center                                    1.000000  \n",
       "fertilization                                       1.000000  \n",
       "female pregnancy                                    1.000000  \n",
       "zinc ion transmembrane transporter activity         1.000000  \n",
       "\n",
       "[2104 rows x 3 columns]"
      ]
     },
     "execution_count": 6,
     "metadata": {},
     "output_type": "execute_result"
    },
    {
     "data": {
      "image/png": "[encoded data removed]",
      "text/plain": [
       "<Figure size 400x647.214 with 2 Axes>"
      ]
     },
     "metadata": {},
     "output_type": "display_data"
    }
   ],
   "source": [
    "plot_utils.plot_enrichments(start_OR, sorton='pval')\n",
    "full_OR"
   ]
  },
  {
   "cell_type": "markdown",
   "id": "6fe892f4",
   "metadata": {},
   "source": [
    "### Clustering the gene sets\n",
    "The six input genes were chosen to include two separate processes, related to blood coagulation and insulin stimulation. Now, we will test to see how the annotations changes when we instead go for two clusters. "
   ]
  },
  {
   "cell_type": "code",
   "execution_count": 7,
   "id": "e409134f",
   "metadata": {
    "scrolled": true
   },
   "outputs": [
    {
     "name": "stdout",
     "output_type": "stream",
     "text": [
      "Calculating Fisher test\n",
      "Calculating Fisher test\n"
     ]
    }
   ],
   "source": [
    "cluster_res = nt.enrich(n_clusters=2)\n",
    "plot_utils.plot_enrichment_clusters(cluster_res, sorton='pval')"
   ]
  },
  {
   "cell_type": "markdown",
   "id": "75ae6b8a",
   "metadata": {},
   "source": [
    "### Analysing cluster distances \n",
    "Lastly, we test how far apart the two identified clusters are on the input network"
   ]
  },
  {
   "cell_type": "code",
   "execution_count": 13,
   "id": "db35d003",
   "metadata": {},
   "outputs": [
    {
     "name": "stdout",
     "output_type": "stream",
     "text": [
      "Building graph in networkx\n",
      "Lost  0.0 of genes by comparing with the largest connected component of the network\n",
      "0 0\n",
      "0 1\n",
      "1 1\n",
      "[[0.24350649 0.97402597]\n",
      " [0.97402597 0.32467532]]\n"
     ]
    }
   ],
   "source": [
    "dists, pvals = nt.get_cluster_distances()\n",
    "print(dists)"
   ]
  },
  {
   "cell_type": "markdown",
   "id": "3f38130b",
   "metadata": {},
   "source": [
    "In the 'dists' variable, we now see a matrix of the average shortest path between genes in each cluster, normed by the average shortest path in the network. Furthermore, on the diagonal is the average shortest path within the cluster. A number close to 1 means that the clusters are relativly unrelated. We chose input genes that are related to coagulation or insulin response, which we now as expected find to make two comparatively unrelated clusters on the input network. "
   ]
  }
 ],
 "metadata": {
  "kernelspec": {
   "display_name": "Python 3 (ipykernel)",
   "language": "python",
   "name": "python3"
  },
  "language_info": {
   "codemirror_mode": {
    "name": "ipython",
    "version": 3
   },
   "file_extension": ".py",
   "mimetype": "text/x-python",
   "name": "python",
   "nbconvert_exporter": "python",
   "pygments_lexer": "ipython3",
   "version": "3.9.13"
  }
 },
 "nbformat": 4,
 "nbformat_minor": 5
}
