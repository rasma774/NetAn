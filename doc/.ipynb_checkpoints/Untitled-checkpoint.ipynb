{
 "cells": [
  {
   "cell_type": "code",
   "execution_count": null,
   "id": "71ab4615",
   "metadata": {},
   "outputs": [],
   "source": []
  },
  {
   "cell_type": "code",
   "execution_count": null,
   "id": "07cea855",
   "metadata": {},
   "outputs": [],
   "source": []
  },
  {
   "cell_type": "markdown",
   "id": "a951e3f5",
   "metadata": {},
   "source": [
    "NetAn\n",
    "================\n",
    "\n",
    "About NetAn\n",
    "-------------\n",
    "Gene annotation enrichment analysis is the gold standard to study the biological context of a set of genes, but available tools often overlooks important network properties of the gene regulatory system. We introduce the Network Annotation Enrichment package, NetAn, which takes a list of genes and uses network-based approaches such as network clustering and inference of closely related genes to include local neighbours. Using NetAn, we exemplify how these approaches can be used to better identify relevant annotations in human gene sets. \n",
    "\n",
    "Usage\n",
    "----------\n",
    "Here, we assume a list of five genes, that will be subject to analysis\n"
   ]
  },
  {
   "cell_type": "code",
   "execution_count": 1,
   "id": "af411021",
   "metadata": {},
   "outputs": [
    {
     "name": "stdout",
     "output_type": "stream",
     "text": [
      "/home/rasmus/Documents/projects/NetAn_package/\n",
      "/home/rasmus/Documents/projects/NetAn_package/\n"
     ]
    }
   ],
   "source": [
    "import sys\n",
    "sys.path.append('../utils')\n",
    "\n",
    "import NetAn"
   ]
  },
  {
   "cell_type": "code",
   "execution_count": 4,
   "id": "8e1e401e",
   "metadata": {},
   "outputs": [],
   "source": [
    "genes = ['INSR', 'IRS1', 'RICTOR', 'ACT1', 'F13A1', 'SERPINC1']"
   ]
  },
  {
   "cell_type": "markdown",
   "id": "2adb776a",
   "metadata": {},
   "source": [
    "We next create a NetAn object. By default, this also loads the STRINGdb network as the default network for analysis."
   ]
  },
  {
   "cell_type": "code",
   "execution_count": 5,
   "id": "6aea73f6",
   "metadata": {},
   "outputs": [],
   "source": [
    "nt = NetAn.NetAn(genes)"
   ]
  },
  {
   "cell_type": "markdown",
   "id": "f5fffa00",
   "metadata": {},
   "source": [
    "The nt object can now be used to, as an example, expand the genes into including also the neighbouring genes on a PPI network"
   ]
  },
  {
   "cell_type": "code",
   "execution_count": null,
   "id": "8a510910",
   "metadata": {},
   "outputs": [],
   "source": [
    "nt.add_close_genes(augment_factor=1)"
   ]
  }
 ],
 "metadata": {
  "kernelspec": {
   "display_name": "Python 3 (ipykernel)",
   "language": "python",
   "name": "python3"
  },
  "language_info": {
   "codemirror_mode": {
    "name": "ipython",
    "version": 3
   },
   "file_extension": ".py",
   "mimetype": "text/x-python",
   "name": "python",
   "nbconvert_exporter": "python",
   "pygments_lexer": "ipython3",
   "version": "3.9.13"
  }
 },
 "nbformat": 4,
 "nbformat_minor": 5
}
